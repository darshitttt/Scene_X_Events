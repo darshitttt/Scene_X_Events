{
 "cells": [
  {
   "cell_type": "code",
   "execution_count": 21,
   "metadata": {},
   "outputs": [],
   "source": [
    "import pandas as pd\n",
    "import numpy as np\n",
    "import os\n",
    "import matplotlib.pyplot as plt\n",
    "import seaborn as sns\n",
    "import ast\n",
    "from collections import defaultdict\n",
    "import panns_inference\n",
    "from panns_inference import AudioTagging, SoundEventDetection, labels\n",
    "\n",
    "import sys\n",
    "sys.path.append('../ASC_AED_JoinTask/Datasets/')\n",
    "sys.path.append('../ASC_AED_JoinTask/models/')\n",
    "import ASC_datasets\n",
    "import audio_utils as au\n",
    "\n",
    "TUT_AUD_DIR = ASC_datasets.TUT_AUD_DIR\n",
    "SAMPLE_RATE = 32000"
   ]
  },
  {
   "cell_type": "code",
   "execution_count": 14,
   "metadata": {},
   "outputs": [],
   "source": [
    "csv = 'tut_preds/Cnn9_64mel_tut_ablatedScenePreds.csv'\n",
    "df = pd.read_csv(csv)\n",
    "scenes = df.scene_preds.unique()"
   ]
  },
  {
   "cell_type": "code",
   "execution_count": 18,
   "metadata": {},
   "outputs": [
    {
     "name": "stdout",
     "output_type": "stream",
     "text": [
      "Checkpoint path: ../ASC_AED_JoinTask/models/Cnn14_mAP=0.431.pth\n",
      "GPU number: 4\n"
     ]
    }
   ],
   "source": [
    "at = AudioTagging(checkpoint_path='../ASC_AED_JoinTask/models/Cnn14_mAP=0.431.pth', device='cuda')\n",
    "\n",
    "def get_event_list(clipwise_output):\n",
    "    # With the slicing, we are reversing the sorted index to get the descending order of event probs.\n",
    "    sorted_indexes = np.argsort(clipwise_output)[::-1]\n",
    "    event_list = []\n",
    "\n",
    "    # Creating a list of events with more than 0.05 prob\n",
    "    for i in range(0, len(sorted_indexes)):\n",
    "        event_prob = clipwise_output[sorted_indexes[i]]\n",
    "        if event_prob > 0.1:\n",
    "            event_list.append(np.array(labels)[sorted_indexes[i]])\n",
    "    \n",
    "    return event_list\n",
    "\n",
    "\n",
    "def get_panns_events_list(audio):\n",
    "    \n",
    "    audio = audio[None, :]\n",
    "    clipwise_op, embedding = at.inference(audio)\n",
    "\n",
    "    event_list = get_event_list(clipwise_op[0])\n",
    "    return event_list"
   ]
  },
  {
   "cell_type": "code",
   "execution_count": 23,
   "metadata": {},
   "outputs": [],
   "source": [
    "# Loop for predicting audio tags for the original audio\n",
    "audio_tags_org = []\n",
    "\n",
    "for i, row in df.iterrows():\n",
    "    fname = os.path.join(TUT_AUD_DIR, row['files'])\n",
    "    audio = au.load_audio_from_file(fname, sample_rate=SAMPLE_RATE)\n",
    "    audio_tags_org.append(get_panns_events_list(audio))"
   ]
  },
  {
   "cell_type": "code",
   "execution_count": 27,
   "metadata": {},
   "outputs": [],
   "source": [
    "df['audio_tags_org'] = audio_tags_org"
   ]
  },
  {
   "cell_type": "code",
   "execution_count": 31,
   "metadata": {},
   "outputs": [],
   "source": [
    "# Counting all the tags in the original audio\n",
    "all_tags = set()\n",
    "\n",
    "for i, row in df.iterrows():\n",
    "    tags = row['audio_tags_org']\n",
    "    for tag in tags:\n",
    "        all_tags.add(tag)"
   ]
  },
  {
   "cell_type": "code",
   "execution_count": 34,
   "metadata": {},
   "outputs": [],
   "source": [
    "# PANNs unique audio tags and counts for each scene\n",
    "scene_tag_counts = defaultdict(dict)\n",
    "all_tags = list(all_tags)\n",
    "\n",
    "for scene in scenes:\n",
    "    for tag in all_tags:\n",
    "        scene_tag_counts[scene][tag] = 0\n",
    "    "
   ]
  },
  {
   "cell_type": "code",
   "execution_count": 38,
   "metadata": {},
   "outputs": [],
   "source": [
    "# Counting the tags for each scene\n",
    "for i, row in df.iterrows():\n",
    "    tags = row['audio_tags_org']\n",
    "    for tag in tags:\n",
    "        scene_tag_counts[row['labels']][tag] += 1"
   ]
  },
  {
   "cell_type": "code",
   "execution_count": 43,
   "metadata": {},
   "outputs": [],
   "source": [
    "df.to_csv('tut_preds/Cnn9_64mel_tut_ablatedScenePreds_withOrgTags.csv', index=False)"
   ]
  }
 ],
 "metadata": {
  "kernelspec": {
   "display_name": "noiseremoval",
   "language": "python",
   "name": "python3"
  },
  "language_info": {
   "codemirror_mode": {
    "name": "ipython",
    "version": 3
   },
   "file_extension": ".py",
   "mimetype": "text/x-python",
   "name": "python",
   "nbconvert_exporter": "python",
   "pygments_lexer": "ipython3",
   "version": "3.11.5"
  }
 },
 "nbformat": 4,
 "nbformat_minor": 2
}
