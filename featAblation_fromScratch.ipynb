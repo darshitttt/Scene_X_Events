{
 "cells": [
  {
   "cell_type": "code",
   "execution_count": 1,
   "metadata": {},
   "outputs": [],
   "source": [
    "import librosa\n",
    "import os\n",
    "import pandas as pd\n",
    "import numpy as np\n",
    "import torch\n",
    "import matplotlib.pyplot as plt\n",
    "import seaborn as sns\n",
    "import random\n",
    "from IPython.display import Audio, display\n",
    "\n",
    "import sys\n",
    "sys.path.append('../ASC_AED_JoinTask/Datasets/')\n",
    "sys.path.append('../ASC_AED_JoinTask/models/')\n",
    "import datasets\n",
    "import models\n",
    "import audio_utils\n",
    "\n",
    "SAMPLE_RATE = 32000\n",
    "FMAX = 16000\n",
    "FMIN = 0\n",
    "N_MELS = 64\n",
    "HOP_LEN = 500\n",
    "N_FFT = 1024"
   ]
  },
  {
   "cell_type": "code",
   "execution_count": 2,
   "metadata": {},
   "outputs": [],
   "source": [
    "fft_freq = librosa.fft_frequencies(sr=SAMPLE_RATE, n_fft=N_FFT)\n",
    "mel_freq = librosa.mel_frequencies(n_mels=N_MELS, fmax=FMAX)"
   ]
  },
  {
   "cell_type": "code",
   "execution_count": 3,
   "metadata": {},
   "outputs": [],
   "source": [
    "model = models.Cnn_9layers_AvgPooling(10, 'logsoftmax')\n",
    "model_path = '../ASC_AED_JoinTask/models/state_dicts/ASC_scapper_Cnn9_64mel_10epochs.pt'\n",
    "model.load_state_dict(torch.load(model_path))\n",
    "\n",
    "device = 'cuda:1' if torch.cuda.is_available() else 'cpu'\n",
    "model = model.to(device)"
   ]
  },
  {
   "cell_type": "code",
   "execution_count": 4,
   "metadata": {},
   "outputs": [],
   "source": [
    "scapper_test_csv = '../ASC_AED_JoinTask/predictions/scapper_preds/ASC_scapper_Cnn9_64mel_10epochs.csv'\n",
    "scapper_df = pd.read_csv(scapper_test_csv)\n",
    "scapper_scenes = list(scapper_df['acoustic_scene_label'].unique())"
   ]
  },
  {
   "cell_type": "code",
   "execution_count": 63,
   "metadata": {},
   "outputs": [
    {
     "name": "stdout",
     "output_type": "stream",
     "text": [
      "Checkpoint path: ../ASC_AED_JoinTask/models/Cnn14_mAP=0.431.pth\n",
      "Using CPU.\n"
     ]
    }
   ],
   "source": [
    "import panns_inference\n",
    "from panns_inference import AudioTagging, SoundEventDetection\n",
    "from panns_inference import labels as labs\n",
    "\n",
    "at = AudioTagging(checkpoint_path='../ASC_AED_JoinTask/models/Cnn14_mAP=0.431.pth', device='cuda:1')\n",
    "\n",
    "def get_event_list(clipwise_output):\n",
    "    # With the slicing, we are reversing the sorted index to get the descending order of event probs.\n",
    "    sorted_indexes = np.argsort(clipwise_output)[::-1]\n",
    "    event_list = []\n",
    "\n",
    "    # Creating a list of events with more than 0.05 prob\n",
    "    for i in range(0, len(sorted_indexes)):\n",
    "        event_prob = clipwise_output[sorted_indexes[i]]\n",
    "        if event_prob > 0.05:\n",
    "            event_list.append(np.array(labs)[sorted_indexes[i]])\n",
    "    \n",
    "    return event_list\n",
    "\n",
    "\n",
    "def get_panns_events_list(audio):\n",
    "    \n",
    "    audio = audio[None, :]\n",
    "    clipwise_op, embedding = at.inference(audio)\n",
    "\n",
    "    event_list = get_event_list(clipwise_op[0])\n",
    "    return event_list"
   ]
  },
  {
   "cell_type": "code",
   "execution_count": 5,
   "metadata": {},
   "outputs": [],
   "source": [
    "def generate_log_mel(wav, SAMPLE_RATE):\n",
    "    mel_S = librosa.feature.melspectrogram(y=wav, sr=SAMPLE_RATE, n_mels=N_MELS, n_fft=N_FFT, hop_length=HOP_LEN)\n",
    "    log_mel = librosa.power_to_db(mel_S, ref=np.max)\n",
    "    return log_mel\n",
    "\n",
    "def show_log_mel(wav, SAMPLE_RATE):\n",
    "    log_mel = generate_log_mel(wav, SAMPLE_RATE)\n",
    "\n",
    "    librosa.display.specshow(log_mel, sr=SAMPLE_RATE, x_axis='time', y_axis='mel', win_length=N_FFT, hop_length=HOP_LEN, fmax=FMAX, fmin=FMIN)\n",
    "    plt.show()\n",
    "\n",
    "def ablate_features(index, audio):\n",
    "\n",
    "    audio_stft = librosa.stft(audio, n_fft=N_FFT)\n",
    "    low_index = index*4\n",
    "    high_index = low_index+3\n",
    "    l0 = fft_freq>=mel_freq[low_index]\n",
    "    l1 = fft_freq<=mel_freq[high_index]\n",
    "\n",
    "    for i in range(len(l0)):\n",
    "        if l0[i] & l1[i]:\n",
    "            audio_stft[i,:] = np.complex64(0+0j)\n",
    "\n",
    "    y_new = librosa.istft(audio_stft, n_fft=N_FFT)\n",
    "    return y_new\n",
    "\n",
    "def run_loop(audio_fname, model):\n",
    "    preds_list = []\n",
    "    audio, sr = librosa.load(audio_fname, sr=SAMPLE_RATE)\n",
    "    \n",
    "    for i in range(16):\n",
    "        y_new = ablate_features(i, audio)\n",
    "        log_mel = torch.from_numpy(generate_log_mel(y_new, SAMPLE_RATE)).unsqueeze(0)\n",
    "\n",
    "        model.eval()\n",
    "        with torch.no_grad():\n",
    "            pred = model(log_mel.to(device))\n",
    "            pred = scapper_scenes[torch.argmax(torch.sigmoid(pred.cpu()))]\n",
    "        preds_list.append(pred)\n",
    "    return preds_list"
   ]
  },
  {
   "cell_type": "code",
   "execution_count": 55,
   "metadata": {},
   "outputs": [],
   "source": [
    "sample_file = '../audioData/sythenticSoundscenes/test/tube1_0.wav'\n",
    "#sample_file = '/work/dpandya/giggityGit/audioData/TUTUrban2018/developmentDataset/TUT-urban-acoustic-scenes-2018-development/audio/bus-paris-26-911-a.wav'\n",
    "#wav, sr = librosa.load(sample_file, sr=SAMPLE_RATE)\n",
    "#run_loop(sample_file, model)\n"
   ]
  },
  {
   "cell_type": "code",
   "execution_count": 6,
   "metadata": {},
   "outputs": [],
   "source": [
    "true_preds = scapper_df[scapper_df['acoustic_scene_label'] == scapper_df['preds']]\n",
    "\n",
    "feat_ablation_preds = {i:[] for i in scapper_scenes}\n",
    "random_files = []\n",
    "\n",
    "for i in scapper_scenes:\n",
    "    random.seed(42)\n",
    "    random_files.append(random.sample(true_preds[true_preds['acoustic_scene_label'] == i]['audio_fileNames'].tolist(), 30))\n",
    "\n",
    "for i in range(len(scapper_scenes)):\n",
    "    for j in random_files[i]:\n",
    "        feat_ablation_preds[scapper_scenes[i]].append(run_loop('../audioData/sythenticSoundscenes/test/'+j, model))\n",
    "\n"
   ]
  },
  {
   "cell_type": "code",
   "execution_count": 7,
   "metadata": {},
   "outputs": [],
   "source": [
    "feat_ablation = {i:[0 for j in range(16)] for i in scapper_scenes}\n",
    "\n",
    "for i in scapper_scenes:\n",
    "    for j in range(len(feat_ablation_preds[i])):\n",
    "        for k in range(len(feat_ablation_preds[i][j])):\n",
    "            if i != feat_ablation_preds[i][j][k]:\n",
    "                feat_ablation[i][k] += 1"
   ]
  },
  {
   "cell_type": "code",
   "execution_count": 8,
   "metadata": {},
   "outputs": [
    {
     "data": {
      "text/plain": [
       "<Axes: >"
      ]
     },
     "execution_count": 8,
     "metadata": {},
     "output_type": "execute_result"
    },
    {
     "data": {
      "image/png": "[encoded data removed]",
      "text/plain": [
       "<Figure size 640x480 with 2 Axes>"
      ]
     },
     "metadata": {},
     "output_type": "display_data"
    }
   ],
   "source": [
    "sns.heatmap(pd.DataFrame(feat_ablation).transpose(), fmt='d', annot=True, cmap='Blues', yticklabels=scapper_scenes)"
   ]
  },
  {
   "cell_type": "code",
   "execution_count": 16,
   "metadata": {},
   "outputs": [],
   "source": [
    "feat_ablation_indices = {}\n",
    "for i in scapper_scenes:\n",
    "    feat_ablation_indices[i] = [j for j in range(len(feat_ablation[i])) if feat_ablation[i][j] >= 15]\n"
   ]
  },
  {
   "cell_type": "code",
   "execution_count": 37,
   "metadata": {},
   "outputs": [],
   "source": [
    "scene_events_df = pd.DataFrame()\n",
    "scene_labs_forDF = []\n",
    "rand_fnames_forDF = []\n",
    "feat_ablation_temp = []\n",
    "\n",
    "\n",
    "for i in range(len(scapper_scenes)):\n",
    "    for j in range(len(random_files[i])):\n",
    "        #print(scapper_scenes[i], j)\n",
    "        scene_labs_forDF.append(scapper_scenes[i])\n",
    "        rand_fnames_forDF.append('../audioData/sythenticSoundscenes/test/'+random_files[i][j])\n",
    "        feat_ablation_temp.append(feat_ablation_preds[scapper_scenes[i]][j])\n",
    "        #print(feat_ablation_preds[scapper_scenes[i]][j])\n",
    "\n",
    "scene_events_df['acoustic_scene_label'] = scene_labs_forDF\n",
    "scene_events_df['audio_fileNames'] = rand_fnames_forDF\n",
    "scene_events_df['feat_ablation_preds'] = feat_ablation_temp"
   ]
  },
  {
   "cell_type": "code",
   "execution_count": 66,
   "metadata": {},
   "outputs": [
    {
     "data": {
      "text/plain": [
       "{'bus': [0, 1, 2, 3],\n",
       " 'busystreet': [0, 4, 5, 6, 7, 8, 9],\n",
       " 'office': [0, 1, 5, 6, 7, 8, 9],\n",
       " 'openairmarket': [0, 1, 2, 3, 4, 5, 6, 7, 8, 9, 10],\n",
       " 'park': [0, 4],\n",
       " 'quietstreet': [0, 1, 3, 5],\n",
       " 'restaurant': [0, 1, 2, 3, 6, 7, 8],\n",
       " 'supermarket': [0, 1, 2, 3, 4, 5, 6, 7, 8],\n",
       " 'tube': [0],\n",
       " 'tubestation': [2, 3, 4, 5, 6, 7, 8, 9, 10]}"
      ]
     },
     "execution_count": 66,
     "metadata": {},
     "output_type": "execute_result"
    }
   ],
   "source": [
    "feat_ablation_indices"
   ]
  },
  {
   "cell_type": "code",
   "execution_count": 69,
   "metadata": {},
   "outputs": [],
   "source": [
    "pure_events_list = []\n",
    "feat_ablation_events_list = []\n",
    "\n",
    "\n",
    "for i, row in scene_events_df.iterrows():\n",
    "    local_feat_ablation_events = []\n",
    "    audio, sr = librosa.load(row['audio_fileNames'], sr=SAMPLE_RATE)\n",
    "    pure_events_list.append(get_panns_events_list(audio))\n",
    "\n",
    "    for j in feat_ablation_indices[row['acoustic_scene_label']]:\n",
    "        y_new = ablate_features(j, audio)\n",
    "        local_feat_ablation_events.append(get_panns_events_list(y_new))\n",
    "\n",
    "    feat_ablation_events_list.append(local_feat_ablation_events)"
   ]
  },
  {
   "cell_type": "code",
   "execution_count": 73,
   "metadata": {},
   "outputs": [],
   "source": [
    "scene_events_df['scene_events'] = pure_events_list\n",
    "scene_events_df['feat_ablation_events'] = feat_ablation_events_list"
   ]
  },
  {
   "cell_type": "code",
   "execution_count": 85,
   "metadata": {},
   "outputs": [],
   "source": [
    "scene_events_df.to_csv('feat_ablation_sceneXevents.csv', index=False)"
   ]
  },
  {
   "cell_type": "code",
   "execution_count": 84,
   "metadata": {},
   "outputs": [
    {
     "name": "stdout",
     "output_type": "stream",
     "text": [
      "Throat clearing\n",
      "Belly laugh\n",
      "Throat clearing\n",
      "Belly laugh\n"
     ]
    }
   ],
   "source": [
    "ind = 0\n",
    "\n",
    "for i in scene_events_df['feat_ablation_events'].iloc[ind]:\n",
    "    for j in scene_events_df['scene_events'].iloc[ind]:\n",
    "        if j not in i:\n",
    "            print(j)"
   ]
  },
  {
   "cell_type": "code",
   "execution_count": 65,
   "metadata": {},
   "outputs": [
    {
     "name": "stdout",
     "output_type": "stream",
     "text": [
      "['Speech', 'Music', 'Chatter']\n"
     ]
    }
   ],
   "source": [
    "audio, sr = librosa.load(scene_events_df['audio_fileNames'].iloc[-15], sr=SAMPLE_RATE)\n",
    "#audio, sr = librosa.load(sample_file, sr=SAMPLE_RATE)\n",
    "print(get_panns_events_list(audio))"
   ]
  },
  {
   "cell_type": "code",
   "execution_count": 19,
   "metadata": {},
   "outputs": [
    {
     "name": "stdout",
     "output_type": "stream",
     "text": [
      "['bus1_upshift_7.wav', 'bus10_downshift_2.wav', 'bus4_upshift_0.wav', 'bus4_5.wav', 'bus3_upshift_4.wav', 'bus2_downshift_1.wav', 'bus1_upshift_2.wav', 'bus9_9.wav', 'bus1_downshift_4.wav', 'bus7_6.wav']\n",
      "['busystreet1_upshift_7.wav', 'busystreet10_downshift_2.wav', 'busystreet4_upshift_0.wav', 'busystreet4_5.wav', 'busystreet3_upshift_4.wav', 'busystreet2_downshift_1.wav', 'busystreet1_upshift_2.wav', 'busystreet9_9.wav', 'busystreet1_downshift_4.wav', 'busystreet7_6.wav']\n",
      "['office1_upshift_6.wav', 'office10_downshift_1.wav', 'office4_downshift_9.wav', 'office4_4.wav', 'office3_upshift_3.wav', 'office2_downshift_0.wav', 'office1_upshift_1.wav', 'office9_downshift_3.wav', 'office1_downshift_3.wav', 'office7_9.wav']\n",
      "['openairmarket1_upshift_7.wav', 'openairmarket10_downshift_2.wav', 'openairmarket4_upshift_0.wav', 'openairmarket4_5.wav', 'openairmarket3_upshift_4.wav', 'openairmarket2_downshift_1.wav', 'openairmarket1_upshift_2.wav', 'openairmarket9_downshift_0.wav', 'openairmarket1_downshift_4.wav', 'openairmarket7_6.wav']\n",
      "['park1_upshift_9.wav', 'park10_downshift_3.wav', 'park4_upshift_7.wav', 'park4_downshift_2.wav', 'park4_1.wav', 'park2_downshift_3.wav', 'park1_upshift_4.wav', 'park9_downshift_7.wav', 'park1_downshift_6.wav', 'park7_downshift_2.wav']\n",
      "['quietstreet1_upshift_7.wav', 'quietstreet10_downshift_2.wav', 'quietstreet4_upshift_1.wav', 'quietstreet4_6.wav', 'quietstreet3_upshift_5.wav', 'quietstreet2_downshift_1.wav', 'quietstreet1_upshift_2.wav', 'quietstreet9_downshift_2.wav', 'quietstreet1_downshift_4.wav', 'quietstreet7_7.wav']\n",
      "['restaurant1_upshift_7.wav', 'restaurant10_downshift_2.wav', 'restaurant4_upshift_0.wav', 'restaurant4_5.wav', 'restaurant3_upshift_4.wav', 'restaurant2_downshift_1.wav', 'restaurant1_upshift_2.wav', 'restaurant9_downshift_0.wav', 'restaurant1_downshift_4.wav', 'restaurant7_6.wav']\n",
      "['supermarket1_upshift_8.wav', 'supermarket10_downshift_2.wav', 'supermarket4_upshift_2.wav', 'supermarket4_7.wav', 'supermarket3_upshift_6.wav', 'supermarket2_downshift_2.wav', 'supermarket1_upshift_3.wav', 'supermarket9_downshift_7.wav', 'supermarket1_downshift_5.wav', 'supermarket7_downshift_2.wav']\n",
      "['tube1_upshift_6.wav', 'tube10_downshift_1.wav', 'tube4_downshift_9.wav', 'tube4_4.wav', 'tube3_upshift_3.wav', 'tube2_downshift_0.wav', 'tube1_upshift_1.wav', 'tube9_9.wav', 'tube1_downshift_3.wav', 'tube7_5.wav']\n",
      "['tubestation7_0.wav', 'tubestation1_downshift_1.wav', 'tubestation10_downshift_2.wav', 'tubestation7_upshift_9.wav', 'tubestation2_upshift_3.wav', 'tubestation2_downshift_5.wav', 'tubestation2_downshift_0.wav', 'tubestation1_downshift_8.wav', 'tubestation7_upshift_7.wav', 'tubestation1_9.wav']\n"
     ]
    }
   ],
   "source": [
    "for i in random_files:\n",
    "    print(i)"
   ]
  },
  {
   "cell_type": "code",
   "execution_count": 161,
   "metadata": {},
   "outputs": [],
   "source": [
    "\n",
    "l0 = lib_freq>=mel_F[4]\n",
    "l1 = lib_freq<=mel_F[7]\n",
    "\n",
    "for i in range(len(l0)):\n",
    "    if l0[i] & l1[i]:\n",
    "        wav_stft[i,:] = np.complex64(0+0j)\n",
    "\n",
    "y_new = librosa.istft(wav_stft, n_fft=N_FFT)"
   ]
  },
  {
   "cell_type": "code",
   "execution_count": null,
   "metadata": {},
   "outputs": [],
   "source": []
  }
 ],
 "metadata": {
  "kernelspec": {
   "display_name": "noiseremoval",
   "language": "python",
   "name": "python3"
  },
  "language_info": {
   "codemirror_mode": {
    "name": "ipython",
    "version": 3
   },
   "file_extension": ".py",
   "mimetype": "text/x-python",
   "name": "python",
   "nbconvert_exporter": "python",
   "pygments_lexer": "ipython3",
   "version": "3.11.5"
  }
 },
 "nbformat": 4,
 "nbformat_minor": 2
}
