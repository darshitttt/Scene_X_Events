{
 "cells": [
  {
   "cell_type": "code",
   "execution_count": 1,
   "metadata": {},
   "outputs": [],
   "source": [
    "import librosa\n",
    "import os\n",
    "import pandas as pd\n",
    "import numpy as np\n",
    "import torch\n",
    "import matplotlib.pyplot as plt\n",
    "import seaborn as sns\n",
    "import random\n",
    "from IPython.display import Audio, display\n",
    "\n",
    "import sys\n",
    "sys.path.append('../ASC_AED_JoinTask/Datasets/')\n",
    "sys.path.append('../ASC_AED_JoinTask/models/')\n",
    "import datasets\n",
    "import models\n",
    "import audio_utils\n",
    "\n",
    "SAMPLE_RATE = 32000\n",
    "FMAX = 16000\n",
    "FMIN = 50\n",
    "N_MELS = 64\n",
    "HOP_LEN = 500\n",
    "N_FFT = 1024"
   ]
  },
  {
   "cell_type": "code",
   "execution_count": 2,
   "metadata": {},
   "outputs": [],
   "source": [
    "fft_freq = librosa.fft_frequencies(sr=SAMPLE_RATE, n_fft=N_FFT)\n",
    "mel_freq = librosa.mel_frequencies(n_mels=N_MELS, fmax=FMAX)"
   ]
  },
  {
   "cell_type": "code",
   "execution_count": 4,
   "metadata": {},
   "outputs": [],
   "source": [
    "model = models.Cnn_9layers_AvgPooling(10, 'logsoftmax')\n",
    "model_path = '../ASC_AED_JoinTask/ASC_TUT18_Cnn9_64mel_10epochs.pt'\n",
    "model.load_state_dict(torch.load(model_path))\n",
    "\n",
    "device = 'cuda:1' if torch.cuda.is_available() else 'cpu'\n",
    "model = model.to(device)"
   ]
  },
  {
   "cell_type": "code",
   "execution_count": 8,
   "metadata": {},
   "outputs": [],
   "source": [
    "tut_test_csv = '../ASC_AED_JoinTask/predictions/ASC_tut18_Cnn9_64mel_10epochs.csv'\n",
    "tut_df = pd.read_csv(tut_test_csv)\n",
    "tut_scenes = list(tut_df['labels'].unique())"
   ]
  },
  {
   "cell_type": "code",
   "execution_count": 4,
   "metadata": {},
   "outputs": [],
   "source": [
    "scapper_test_csv = '../ASC_AED_JoinTask/predictions/scapper_preds/ASC_scapper_Cnn9_64mel_10epochs.csv'\n",
    "scapper_df = pd.read_csv(scapper_test_csv)\n",
    "scapper_scenes = list(scapper_df['acoustic_scene_label'].unique())"
   ]
  },
  {
   "cell_type": "code",
   "execution_count": 9,
   "metadata": {},
   "outputs": [
    {
     "name": "stdout",
     "output_type": "stream",
     "text": [
      "Checkpoint path: ../ASC_AED_JoinTask/models/Cnn14_mAP=0.431.pth\n",
      "Using CPU.\n"
     ]
    }
   ],
   "source": [
    "import panns_inference\n",
    "from panns_inference import AudioTagging, SoundEventDetection\n",
    "from panns_inference import labels as labs\n",
    "\n",
    "at = AudioTagging(checkpoint_path='../ASC_AED_JoinTask/models/Cnn14_mAP=0.431.pth', device='cuda:1')\n",
    "\n",
    "def get_event_list(clipwise_output):\n",
    "    # With the slicing, we are reversing the sorted index to get the descending order of event probs.\n",
    "    sorted_indexes = np.argsort(clipwise_output)[::-1]\n",
    "    event_list = []\n",
    "\n",
    "    # Creating a list of events with more than 0.05 prob\n",
    "    for i in range(0, len(sorted_indexes)):\n",
    "        event_prob = clipwise_output[sorted_indexes[i]]\n",
    "        if event_prob > 0.1:\n",
    "            event_list.append(np.array(labs)[sorted_indexes[i]])\n",
    "    \n",
    "    return event_list\n",
    "\n",
    "\n",
    "def get_panns_events_list(audio):\n",
    "    \n",
    "    audio = audio[None, :]\n",
    "    clipwise_op, embedding = at.inference(audio)\n",
    "\n",
    "    event_list = get_event_list(clipwise_op[0])\n",
    "    return event_list"
   ]
  },
  {
   "cell_type": "code",
   "execution_count": 13,
   "metadata": {},
   "outputs": [],
   "source": [
    "def generate_log_mel(wav, SAMPLE_RATE):\n",
    "    mel_S = librosa.feature.melspectrogram(y=wav, sr=SAMPLE_RATE, n_mels=N_MELS, n_fft=N_FFT, hop_length=HOP_LEN)\n",
    "    log_mel = librosa.power_to_db(mel_S, ref=np.max)\n",
    "    return log_mel\n",
    "\n",
    "def show_log_mel(wav, SAMPLE_RATE):\n",
    "    log_mel = generate_log_mel(wav, SAMPLE_RATE)\n",
    "\n",
    "    librosa.display.specshow(log_mel, sr=SAMPLE_RATE, x_axis='time', y_axis='mel', win_length=N_FFT, hop_length=HOP_LEN, fmax=FMAX, fmin=FMIN)\n",
    "    plt.show()\n",
    "\n",
    "def ablate_features(index, audio):\n",
    "\n",
    "    audio_stft = librosa.stft(audio, n_fft=N_FFT)\n",
    "    low_index = index*4\n",
    "    high_index = low_index+3\n",
    "    l0 = fft_freq>=mel_freq[low_index]\n",
    "    l1 = fft_freq<=mel_freq[high_index]\n",
    "\n",
    "    for i in range(len(l0)):\n",
    "        if l0[i] & l1[i]:\n",
    "            audio_stft[i,:] = np.complex64(0+0j)\n",
    "\n",
    "    y_new = librosa.istft(audio_stft, n_fft=N_FFT)\n",
    "    return y_new\n",
    "\n",
    "def run_loop(audio_fname, model):\n",
    "    preds_list = []\n",
    "    audio, sr = librosa.load(audio_fname, sr=SAMPLE_RATE)\n",
    "    \n",
    "    for i in range(16):\n",
    "        y_new = ablate_features(i, audio)\n",
    "        log_mel = torch.from_numpy(generate_log_mel(y_new, SAMPLE_RATE)).unsqueeze(0)\n",
    "\n",
    "        model.eval()\n",
    "        with torch.no_grad():\n",
    "            pred = model(log_mel.to(device))\n",
    "            pred = tut_scenes[torch.argmax(torch.sigmoid(pred.cpu()))]\n",
    "        preds_list.append(pred)\n",
    "    return preds_list"
   ]
  },
  {
   "cell_type": "code",
   "execution_count": 117,
   "metadata": {},
   "outputs": [],
   "source": [
    "sample_file = '../audioData/sythenticSoundscenes/test/tube1_0.wav'\n",
    "#sample_file = '/work/dpandya/giggityGit/audioData/TUTUrban2018/developmentDataset/TUT-urban-acoustic-scenes-2018-development/audio/bus-paris-26-911-a.wav'\n",
    "#wav, sr = librosa.load(sample_file, sr=SAMPLE_RATE)\n",
    "#run_loop(sample_file, model)\n"
   ]
  },
  {
   "cell_type": "code",
   "execution_count": 14,
   "metadata": {},
   "outputs": [],
   "source": [
    "#true_preds = scapper_df[scapper_df['acoustic_scene_label'] == scapper_df['preds']]\n",
    "true_preds = tut_df[tut_df['labels'] == tut_df['preds']]\n",
    "\n",
    "feat_ablation_preds = {i:[] for i in tut_scenes}\n",
    "random_files = []\n",
    "\n",
    "for i in tut_scenes:\n",
    "    random.seed(42)\n",
    "    random_files.append(random.sample(true_preds[true_preds['labels'] == i]['files'].tolist(), 30))\n",
    "\n",
    "for i in range(len(tut_scenes)):\n",
    "    for j in random_files[i]:\n",
    "        feat_ablation_preds[tut_scenes[i]].append(run_loop(datasets.TUT_AUD_DIR+j, model))"
   ]
  },
  {
   "cell_type": "code",
   "execution_count": 16,
   "metadata": {},
   "outputs": [],
   "source": [
    "feat_ablation = {i:[0 for j in range(16)] for i in tut_scenes}\n",
    "\n",
    "for i in tut_scenes:\n",
    "    for j in range(len(feat_ablation_preds[i])):\n",
    "        for k in range(len(feat_ablation_preds[i][j])):\n",
    "            if i != feat_ablation_preds[i][j][k]:\n",
    "                feat_ablation[i][k] += 1"
   ]
  },
  {
   "cell_type": "code",
   "execution_count": 17,
   "metadata": {},
   "outputs": [
    {
     "data": {
      "text/plain": [
       "<Axes: >"
      ]
     },
     "execution_count": 17,
     "metadata": {},
     "output_type": "execute_result"
    },
    {
     "data": {
      "image/png": "[encoded data removed]",
      "text/plain": [
       "<Figure size 640x480 with 2 Axes>"
      ]
     },
     "metadata": {},
     "output_type": "display_data"
    }
   ],
   "source": [
    "sns.heatmap(pd.DataFrame(feat_ablation).transpose(), fmt='d', annot=True, cmap='Blues', yticklabels=tut_scenes)"
   ]
  },
  {
   "cell_type": "code",
   "execution_count": 18,
   "metadata": {},
   "outputs": [],
   "source": [
    "feat_ablation_indices = {}\n",
    "for i in tut_scenes:\n",
    "    feat_ablation_indices[i] = [j for j in range(len(feat_ablation[i])) if feat_ablation[i][j] >= 15]\n"
   ]
  },
  {
   "cell_type": "code",
   "execution_count": 20,
   "metadata": {},
   "outputs": [],
   "source": [
    "scene_events_df = pd.DataFrame()\n",
    "scene_labs_forDF = []\n",
    "rand_fnames_forDF = []\n",
    "feat_ablation_temp = []\n",
    "\n",
    "\n",
    "for i in range(len(tut_scenes)):\n",
    "    for j in range(len(random_files[i])):\n",
    "        #print(scapper_scenes[i], j)\n",
    "        scene_labs_forDF.append(tut_scenes[i])\n",
    "        rand_fnames_forDF.append(datasets.TUT_AUD_DIR+random_files[i][j])\n",
    "        feat_ablation_temp.append(feat_ablation_preds[tut_scenes[i]][j])\n",
    "        #print(feat_ablation_preds[scapper_scenes[i]][j])\n",
    "\n",
    "scene_events_df['acoustic_scene_label'] = scene_labs_forDF\n",
    "scene_events_df['audio_fileNames'] = rand_fnames_forDF\n",
    "scene_events_df['feat_ablation_preds'] = feat_ablation_temp"
   ]
  },
  {
   "cell_type": "code",
   "execution_count": 21,
   "metadata": {},
   "outputs": [],
   "source": [
    "pure_events_list = []\n",
    "feat_ablation_events_list = []\n",
    "\n",
    "\n",
    "for i, row in scene_events_df.iterrows():\n",
    "    local_feat_ablation_events = []\n",
    "    audio, sr = librosa.load(row['audio_fileNames'], sr=SAMPLE_RATE)\n",
    "    pure_events_list.append(get_panns_events_list(audio))\n",
    "\n",
    "    for j in feat_ablation_indices[row['acoustic_scene_label']]:\n",
    "        y_new = ablate_features(j, audio)\n",
    "        local_feat_ablation_events.append(get_panns_events_list(y_new))\n",
    "\n",
    "    feat_ablation_events_list.append(local_feat_ablation_events)"
   ]
  },
  {
   "cell_type": "code",
   "execution_count": 22,
   "metadata": {},
   "outputs": [],
   "source": [
    "scene_events_df['scene_events'] = pure_events_list\n",
    "scene_events_df['feat_ablation_events'] = feat_ablation_events_list"
   ]
  },
  {
   "cell_type": "code",
   "execution_count": 23,
   "metadata": {},
   "outputs": [
    {
     "data": {
      "text/html": [
       "<div>\n",
       "<style scoped>\n",
       "    .dataframe tbody tr th:only-of-type {\n",
       "        vertical-align: middle;\n",
       "    }\n",
       "\n",
       "    .dataframe tbody tr th {\n",
       "        vertical-align: top;\n",
       "    }\n",
       "\n",
       "    .dataframe thead th {\n",
       "        text-align: right;\n",
       "    }\n",
       "</style>\n",
       "<table border=\"1\" class=\"dataframe\">\n",
       "  <thead>\n",
       "    <tr style=\"text-align: right;\">\n",
       "      <th></th>\n",
       "      <th>acoustic_scene_label</th>\n",
       "      <th>audio_fileNames</th>\n",
       "      <th>feat_ablation_preds</th>\n",
       "      <th>scene_events</th>\n",
       "      <th>feat_ablation_events</th>\n",
       "    </tr>\n",
       "  </thead>\n",
       "  <tbody>\n",
       "    <tr>\n",
       "      <th>0</th>\n",
       "      <td>airport</td>\n",
       "      <td>/work/dpandya/giggityGit/audioData/TUTUrban201...</td>\n",
       "      <td>[metro_station, metro, metro, metro_station, m...</td>\n",
       "      <td>[Speech]</td>\n",
       "      <td>[[Speech, Squish, Drip], [Speech, Animal, Clip...</td>\n",
       "    </tr>\n",
       "    <tr>\n",
       "      <th>1</th>\n",
       "      <td>airport</td>\n",
       "      <td>/work/dpandya/giggityGit/audioData/TUTUrban201...</td>\n",
       "      <td>[metro_station, metro, metro, metro_station, m...</td>\n",
       "      <td>[Speech, Run, Animal, Outside, urban or manmad...</td>\n",
       "      <td>[[Speech, Animal, Horse, Clip-clop, Run, Outsi...</td>\n",
       "    </tr>\n",
       "    <tr>\n",
       "      <th>2</th>\n",
       "      <td>airport</td>\n",
       "      <td>/work/dpandya/giggityGit/audioData/TUTUrban201...</td>\n",
       "      <td>[metro_station, park, park, metro_station, met...</td>\n",
       "      <td>[Vehicle, Clip-clop, Animal]</td>\n",
       "      <td>[[Patter, Rodents, rats, mice, Vehicle], [Vehi...</td>\n",
       "    </tr>\n",
       "    <tr>\n",
       "      <th>3</th>\n",
       "      <td>airport</td>\n",
       "      <td>/work/dpandya/giggityGit/audioData/TUTUrban201...</td>\n",
       "      <td>[metro_station, metro, metro, metro_station, m...</td>\n",
       "      <td>[Speech, Animal]</td>\n",
       "      <td>[[Speech, Mouse, Animal], [Speech, Animal, Cli...</td>\n",
       "    </tr>\n",
       "    <tr>\n",
       "      <th>4</th>\n",
       "      <td>airport</td>\n",
       "      <td>/work/dpandya/giggityGit/audioData/TUTUrban201...</td>\n",
       "      <td>[metro_station, metro, metro, metro_station, m...</td>\n",
       "      <td>[Speech, Animal, Clip-clop, Horse]</td>\n",
       "      <td>[[Speech, Animal], [Speech, Animal, Clip-clop,...</td>\n",
       "    </tr>\n",
       "  </tbody>\n",
       "</table>\n",
       "</div>"
      ],
      "text/plain": [
       "  acoustic_scene_label                                    audio_fileNames  \\\n",
       "0              airport  /work/dpandya/giggityGit/audioData/TUTUrban201...   \n",
       "1              airport  /work/dpandya/giggityGit/audioData/TUTUrban201...   \n",
       "2              airport  /work/dpandya/giggityGit/audioData/TUTUrban201...   \n",
       "3              airport  /work/dpandya/giggityGit/audioData/TUTUrban201...   \n",
       "4              airport  /work/dpandya/giggityGit/audioData/TUTUrban201...   \n",
       "\n",
       "                                 feat_ablation_preds  \\\n",
       "0  [metro_station, metro, metro, metro_station, m...   \n",
       "1  [metro_station, metro, metro, metro_station, m...   \n",
       "2  [metro_station, park, park, metro_station, met...   \n",
       "3  [metro_station, metro, metro, metro_station, m...   \n",
       "4  [metro_station, metro, metro, metro_station, m...   \n",
       "\n",
       "                                        scene_events  \\\n",
       "0                                           [Speech]   \n",
       "1  [Speech, Run, Animal, Outside, urban or manmad...   \n",
       "2                       [Vehicle, Clip-clop, Animal]   \n",
       "3                                   [Speech, Animal]   \n",
       "4                 [Speech, Animal, Clip-clop, Horse]   \n",
       "\n",
       "                                feat_ablation_events  \n",
       "0  [[Speech, Squish, Drip], [Speech, Animal, Clip...  \n",
       "1  [[Speech, Animal, Horse, Clip-clop, Run, Outsi...  \n",
       "2  [[Patter, Rodents, rats, mice, Vehicle], [Vehi...  \n",
       "3  [[Speech, Mouse, Animal], [Speech, Animal, Cli...  \n",
       "4  [[Speech, Animal], [Speech, Animal, Clip-clop,...  "
      ]
     },
     "execution_count": 23,
     "metadata": {},
     "output_type": "execute_result"
    }
   ],
   "source": [
    "scene_events_df.head(5)"
   ]
  },
  {
   "cell_type": "code",
   "execution_count": 24,
   "metadata": {},
   "outputs": [],
   "source": [
    "scene_events_df.to_csv('tut18_feat_ablation_sceneXevents_0.csv', index=False)"
   ]
  },
  {
   "cell_type": "code",
   "execution_count": 127,
   "metadata": {},
   "outputs": [
    {
     "data": {
      "text/plain": [
       "55"
      ]
     },
     "execution_count": 127,
     "metadata": {},
     "output_type": "execute_result"
    }
   ],
   "source": [
    "all_panns_events = []\n",
    "temp_set = set()\n",
    "\n",
    "for i, row in scene_events_df.iterrows():\n",
    "    for j in row['scene_events']:\n",
    "        temp_set.add(j)\n",
    "\n",
    "len(temp_set)"
   ]
  },
  {
   "cell_type": "code",
   "execution_count": 169,
   "metadata": {},
   "outputs": [],
   "source": [
    "def missed_events(ablation_evets, org_preds, event_set):\n",
    "    missed_events = []\n",
    "    for j in range(len(ablation_evets)):\n",
    "        for i in org_preds:\n",
    "            if i not in ablation_evets[j]:\n",
    "                #print(i)\n",
    "                event_set.update([i])\n",
    "    return event_set\n",
    "\n",
    "missed_label_dict = {i:set() for i in scapper_scenes}\n",
    "\n",
    "for i, row in scene_events_df.iterrows():\n",
    "    s1 = row['scene_events']\n",
    "    s2 = row['feat_ablation_events']\n",
    "    missed_label_dict[row['acoustic_scene_label']] = (missed_events(s2, s1, missed_label_dict[row['acoustic_scene_label']]))"
   ]
  },
  {
   "cell_type": "code",
   "execution_count": 142,
   "metadata": {},
   "outputs": [
    {
     "data": {
      "text/plain": [
       "Index(['acoustic_scene_label', 'audio_fileNames', 'feat_ablation_preds',\n",
       "       'scene_events', 'feat_ablation_events'],\n",
       "      dtype='object')"
      ]
     },
     "execution_count": 142,
     "metadata": {},
     "output_type": "execute_result"
    }
   ],
   "source": [
    "scene_events_df.columns"
   ]
  },
  {
   "cell_type": "code",
   "execution_count": 162,
   "metadata": {},
   "outputs": [],
   "source": [
    "feat_index_miss_events = {i:set() for i in range(12)}\n",
    "\n",
    "for i, row in scene_events_df.iterrows():\n",
    "    for j in (feat_ablation_indices[row['acoustic_scene_label']]):\n",
    "        org_events = row['scene_events']\n",
    "        pred_events = row['feat_ablation_events'][feat_ablation_indices[row['acoustic_scene_label']].index(j)]\n",
    "        feat_index_miss_events[j] = missed_events(pred_events, org_events, feat_index_miss_events[j])\n",
    "        #feat_index_miss_events[j].update()"
   ]
  },
  {
   "cell_type": "code",
   "execution_count": 167,
   "metadata": {},
   "outputs": [
    {
     "data": {
      "text/plain": [
       "38"
      ]
     },
     "execution_count": 167,
     "metadata": {},
     "output_type": "execute_result"
    }
   ],
   "source": [
    "len(feat_index_miss_events[2])"
   ]
  },
  {
   "cell_type": "code",
   "execution_count": 105,
   "metadata": {},
   "outputs": [],
   "source": [
    "scene_events_df = pd.read_csv('feat_ablation_sceneXevents.csv')"
   ]
  },
  {
   "cell_type": "code",
   "execution_count": 106,
   "metadata": {},
   "outputs": [],
   "source": [
    "import ast\n",
    "\n",
    "for i, row in scene_events_df.iterrows():\n",
    "    row['feat_ablation_preds'] = ast.literal_eval(row['feat_ablation_preds'])\n",
    "    row['scene_events'] = ast.literal_eval(row['scene_events'])\n",
    "    row['feat_ablation_events'] = ast.literal_eval(row['feat_ablation_events'])"
   ]
  },
  {
   "cell_type": "code",
   "execution_count": 45,
   "metadata": {},
   "outputs": [],
   "source": [
    "scapper_scenes = list(scene_events_df['acoustic_scene_label'].unique())\n",
    "\n",
    "feat_ablation = {i:[0 for j in range(16)] for i in scapper_scenes}\n",
    "\n",
    "for i, row in scene_events_df.iterrows():\n",
    "    for j in range(len(row['feat_ablation_preds'])):\n",
    "        if row['acoustic_scene_label'] != row['feat_ablation_preds'][j]:\n",
    "            feat_ablation[row['acoustic_scene_label']][j] += 1"
   ]
  },
  {
   "cell_type": "code",
   "execution_count": 48,
   "metadata": {},
   "outputs": [],
   "source": [
    "feat_ablation_indices = {}\n",
    "for i in scapper_scenes:\n",
    "    feat_ablation_indices[i] = [j for j in range(len(feat_ablation[i])) if feat_ablation[i][j] >= 15]"
   ]
  },
  {
   "cell_type": "code",
   "execution_count": 92,
   "metadata": {},
   "outputs": [],
   "source": []
  },
  {
   "cell_type": "code",
   "execution_count": 93,
   "metadata": {},
   "outputs": [
    {
     "data": {
      "text/plain": [
       "{'Belly laugh', 'Throat clearing'}"
      ]
     },
     "execution_count": 93,
     "metadata": {},
     "output_type": "execute_result"
    }
   ],
   "source": [
    "s1 = scene_events_df['scene_events'].iloc[0]\n",
    "s2 = scene_events_df['feat_ablation_events'].iloc[0]\n",
    "fea = set()\n",
    "\n",
    "fea = missed_events(s2, s1, fea)\n",
    "fea"
   ]
  },
  {
   "cell_type": "code",
   "execution_count": 94,
   "metadata": {},
   "outputs": [],
   "source": []
  },
  {
   "cell_type": "code",
   "execution_count": 102,
   "metadata": {},
   "outputs": [
    {
     "data": {
      "text/plain": [
       "{'Alarm',\n",
       " 'Animal',\n",
       " 'Arrow',\n",
       " 'Bicycle',\n",
       " 'Bird',\n",
       " 'Bird flight, flapping wings',\n",
       " 'Bird vocalization, bird call, bird song',\n",
       " 'Cat',\n",
       " 'Caterwaul',\n",
       " 'Chicken, rooster',\n",
       " 'Chirp, tweet',\n",
       " 'Cluck',\n",
       " 'Crow',\n",
       " 'Crowing, cock-a-doodle-doo',\n",
       " 'Dog',\n",
       " 'Domestic animals, pets',\n",
       " 'Duck',\n",
       " 'Environmental noise',\n",
       " 'Fowl',\n",
       " 'Goose',\n",
       " 'Honk',\n",
       " 'Horse',\n",
       " 'Insect',\n",
       " 'Laughter',\n",
       " 'Livestock, farm animals, working animals',\n",
       " 'Meow',\n",
       " 'Music',\n",
       " 'Outside, rural or natural',\n",
       " 'Pant',\n",
       " 'Quack',\n",
       " 'Rail transport',\n",
       " 'Ringtone',\n",
       " 'Shatter',\n",
       " 'Snake',\n",
       " 'Telephone',\n",
       " 'Telephone bell ringing',\n",
       " 'Train',\n",
       " 'Vehicle',\n",
       " 'Whale vocalization'}"
      ]
     },
     "execution_count": 102,
     "metadata": {},
     "output_type": "execute_result"
    }
   ],
   "source": [
    "(missed_label_dict['park'])"
   ]
  },
  {
   "cell_type": "code",
   "execution_count": null,
   "metadata": {},
   "outputs": [],
   "source": []
  },
  {
   "cell_type": "code",
   "execution_count": 67,
   "metadata": {},
   "outputs": [
    {
     "name": "stdout",
     "output_type": "stream",
     "text": [
      "[0, 1, 2, 3]\n",
      "[0, 4, 5, 6, 7, 8, 9]\n",
      "[0, 1, 5, 6, 7, 8, 9]\n",
      "[0, 1, 2, 3, 4, 5, 6, 7, 8, 9, 10]\n",
      "[0, 4]\n",
      "[0, 1, 3, 5]\n",
      "[0, 1, 2, 3, 6, 7, 8]\n",
      "[0, 1, 2, 3, 4, 5, 6, 7, 8]\n",
      "[0]\n",
      "[2, 3, 4, 5, 6, 7, 8, 9, 10]\n"
     ]
    }
   ],
   "source": [
    "indices_events = {i:[] for i in range(11)}\n",
    "\n",
    "for i, row in scene_events_df.iterrows():\n",
    "    pred_events = row['feat_ablation_events']\n",
    "    org_events = row['scene_events']\n",
    "    "
   ]
  },
  {
   "cell_type": "code",
   "execution_count": 57,
   "metadata": {},
   "outputs": [
    {
     "name": "stdout",
     "output_type": "stream",
     "text": [
      "Throat clearing\n",
      "Belly laugh\n",
      "Throat clearing\n",
      "Belly laugh\n"
     ]
    }
   ],
   "source": [
    "event_pred_list = scene_events_df['feat_ablation_events'].iloc[0]\n",
    "list0 = scene_events_df['scene_events'].iloc[0]\n",
    "\n",
    "for j in range(len(event_pred_list)):\n",
    "    for i in list0:\n",
    "        if i not in event_pred_list[j]:\n",
    "            print(i)"
   ]
  },
  {
   "cell_type": "code",
   "execution_count": 85,
   "metadata": {},
   "outputs": [],
   "source": [
    "scene_events_df.to_csv('feat_ablation_sceneXevents.csv', index=False)"
   ]
  },
  {
   "cell_type": "code",
   "execution_count": 84,
   "metadata": {},
   "outputs": [
    {
     "name": "stdout",
     "output_type": "stream",
     "text": [
      "Throat clearing\n",
      "Belly laugh\n",
      "Throat clearing\n",
      "Belly laugh\n"
     ]
    }
   ],
   "source": [
    "ind = 0\n",
    "\n",
    "for i in scene_events_df['feat_ablation_events'].iloc[ind]:\n",
    "    for j in scene_events_df['scene_events'].iloc[ind]:\n",
    "        if j not in i:\n",
    "            print(j)"
   ]
  },
  {
   "cell_type": "code",
   "execution_count": 65,
   "metadata": {},
   "outputs": [
    {
     "name": "stdout",
     "output_type": "stream",
     "text": [
      "['Speech', 'Music', 'Chatter']\n"
     ]
    }
   ],
   "source": [
    "audio, sr = librosa.load(scene_events_df['audio_fileNames'].iloc[-15], sr=SAMPLE_RATE)\n",
    "#audio, sr = librosa.load(sample_file, sr=SAMPLE_RATE)\n",
    "print(get_panns_events_list(audio))"
   ]
  },
  {
   "cell_type": "code",
   "execution_count": 19,
   "metadata": {},
   "outputs": [
    {
     "name": "stdout",
     "output_type": "stream",
     "text": [
      "['bus1_upshift_7.wav', 'bus10_downshift_2.wav', 'bus4_upshift_0.wav', 'bus4_5.wav', 'bus3_upshift_4.wav', 'bus2_downshift_1.wav', 'bus1_upshift_2.wav', 'bus9_9.wav', 'bus1_downshift_4.wav', 'bus7_6.wav']\n",
      "['busystreet1_upshift_7.wav', 'busystreet10_downshift_2.wav', 'busystreet4_upshift_0.wav', 'busystreet4_5.wav', 'busystreet3_upshift_4.wav', 'busystreet2_downshift_1.wav', 'busystreet1_upshift_2.wav', 'busystreet9_9.wav', 'busystreet1_downshift_4.wav', 'busystreet7_6.wav']\n",
      "['office1_upshift_6.wav', 'office10_downshift_1.wav', 'office4_downshift_9.wav', 'office4_4.wav', 'office3_upshift_3.wav', 'office2_downshift_0.wav', 'office1_upshift_1.wav', 'office9_downshift_3.wav', 'office1_downshift_3.wav', 'office7_9.wav']\n",
      "['openairmarket1_upshift_7.wav', 'openairmarket10_downshift_2.wav', 'openairmarket4_upshift_0.wav', 'openairmarket4_5.wav', 'openairmarket3_upshift_4.wav', 'openairmarket2_downshift_1.wav', 'openairmarket1_upshift_2.wav', 'openairmarket9_downshift_0.wav', 'openairmarket1_downshift_4.wav', 'openairmarket7_6.wav']\n",
      "['park1_upshift_9.wav', 'park10_downshift_3.wav', 'park4_upshift_7.wav', 'park4_downshift_2.wav', 'park4_1.wav', 'park2_downshift_3.wav', 'park1_upshift_4.wav', 'park9_downshift_7.wav', 'park1_downshift_6.wav', 'park7_downshift_2.wav']\n",
      "['quietstreet1_upshift_7.wav', 'quietstreet10_downshift_2.wav', 'quietstreet4_upshift_1.wav', 'quietstreet4_6.wav', 'quietstreet3_upshift_5.wav', 'quietstreet2_downshift_1.wav', 'quietstreet1_upshift_2.wav', 'quietstreet9_downshift_2.wav', 'quietstreet1_downshift_4.wav', 'quietstreet7_7.wav']\n",
      "['restaurant1_upshift_7.wav', 'restaurant10_downshift_2.wav', 'restaurant4_upshift_0.wav', 'restaurant4_5.wav', 'restaurant3_upshift_4.wav', 'restaurant2_downshift_1.wav', 'restaurant1_upshift_2.wav', 'restaurant9_downshift_0.wav', 'restaurant1_downshift_4.wav', 'restaurant7_6.wav']\n",
      "['supermarket1_upshift_8.wav', 'supermarket10_downshift_2.wav', 'supermarket4_upshift_2.wav', 'supermarket4_7.wav', 'supermarket3_upshift_6.wav', 'supermarket2_downshift_2.wav', 'supermarket1_upshift_3.wav', 'supermarket9_downshift_7.wav', 'supermarket1_downshift_5.wav', 'supermarket7_downshift_2.wav']\n",
      "['tube1_upshift_6.wav', 'tube10_downshift_1.wav', 'tube4_downshift_9.wav', 'tube4_4.wav', 'tube3_upshift_3.wav', 'tube2_downshift_0.wav', 'tube1_upshift_1.wav', 'tube9_9.wav', 'tube1_downshift_3.wav', 'tube7_5.wav']\n",
      "['tubestation7_0.wav', 'tubestation1_downshift_1.wav', 'tubestation10_downshift_2.wav', 'tubestation7_upshift_9.wav', 'tubestation2_upshift_3.wav', 'tubestation2_downshift_5.wav', 'tubestation2_downshift_0.wav', 'tubestation1_downshift_8.wav', 'tubestation7_upshift_7.wav', 'tubestation1_9.wav']\n"
     ]
    }
   ],
   "source": [
    "for i in random_files:\n",
    "    print(i)"
   ]
  },
  {
   "cell_type": "code",
   "execution_count": 161,
   "metadata": {},
   "outputs": [],
   "source": [
    "\n",
    "l0 = lib_freq>=mel_F[4]\n",
    "l1 = lib_freq<=mel_F[7]\n",
    "\n",
    "for i in range(len(l0)):\n",
    "    if l0[i] & l1[i]:\n",
    "        wav_stft[i,:] = np.complex64(0+0j)\n",
    "\n",
    "y_new = librosa.istft(wav_stft, n_fft=N_FFT)"
   ]
  },
  {
   "cell_type": "code",
   "execution_count": null,
   "metadata": {},
   "outputs": [],
   "source": []
  }
 ],
 "metadata": {
  "kernelspec": {
   "display_name": "noiseremoval",
   "language": "python",
   "name": "python3"
  },
  "language_info": {
   "codemirror_mode": {
    "name": "ipython",
    "version": 3
   },
   "file_extension": ".py",
   "mimetype": "text/x-python",
   "name": "python",
   "nbconvert_exporter": "python",
   "pygments_lexer": "ipython3",
   "version": "3.11.5"
  }
 },
 "nbformat": 4,
 "nbformat_minor": 2
}
