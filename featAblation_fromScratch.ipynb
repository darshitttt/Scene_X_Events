{
 "cells": [
  {
   "cell_type": "code",
   "execution_count": 53,
   "metadata": {},
   "outputs": [],
   "source": [
    "import librosa\n",
    "import os\n",
    "import pandas as pd\n",
    "import numpy as np\n",
    "import torch\n",
    "import matplotlib.pyplot as plt\n",
    "import seaborn as sns\n",
    "import random\n",
    "from IPython.display import Audio, display\n",
    "\n",
    "import sys\n",
    "sys.path.append('../ASC_AED_JoinTask/Datasets/')\n",
    "sys.path.append('../ASC_AED_JoinTask/models/')\n",
    "import datasets\n",
    "import models\n",
    "import audio_utils\n",
    "\n",
    "SAMPLE_RATE = 32000\n",
    "FMAX = 16000\n",
    "FMIN = 0\n",
    "N_MELS = 64\n",
    "HOP_LEN = 500\n",
    "N_FFT = 1024"
   ]
  },
  {
   "cell_type": "code",
   "execution_count": 12,
   "metadata": {},
   "outputs": [],
   "source": [
    "fft_freq = librosa.fft_frequencies(sr=SAMPLE_RATE, n_fft=N_FFT)\n",
    "mel_freq = librosa.mel_frequencies(n_mels=N_MELS, fmax=FMAX)"
   ]
  },
  {
   "cell_type": "code",
   "execution_count": 42,
   "metadata": {},
   "outputs": [],
   "source": [
    "model = models.Cnn_9layers_AvgPooling(10, 'logsoftmax')\n",
    "model_path = '../ASC_AED_JoinTask/models/state_dicts/ASC_scapper_Cnn9_64mel_10epochs.pt'\n",
    "model.load_state_dict(torch.load(model_path))\n",
    "\n",
    "device = 'cuda' if torch.cuda.is_available() else 'cpu'\n",
    "model = model.to(device)"
   ]
  },
  {
   "cell_type": "code",
   "execution_count": 41,
   "metadata": {},
   "outputs": [],
   "source": [
    "scapper_test_csv = '../ASC_AED_JoinTask/predictions/scapper_preds/ASC_scapper_Cnn9_64mel_10epochs.csv'\n",
    "scapper_df = pd.read_csv(scapper_test_csv)\n",
    "scapper_scenes = list(scapper_df['acoustic_scene_label'].unique())"
   ]
  },
  {
   "cell_type": "code",
   "execution_count": 45,
   "metadata": {},
   "outputs": [],
   "source": [
    "def generate_log_mel(wav, SAMPLE_RATE):\n",
    "    mel_S = librosa.feature.melspectrogram(y=wav, sr=SAMPLE_RATE, n_mels=N_MELS, n_fft=N_FFT, hop_length=HOP_LEN)\n",
    "    log_mel = librosa.power_to_db(mel_S, ref=np.max)\n",
    "    return log_mel\n",
    "\n",
    "def show_log_mel(wav, SAMPLE_RATE):\n",
    "    log_mel = generate_log_mel(wav, SAMPLE_RATE)\n",
    "\n",
    "    librosa.display.specshow(log_mel, sr=SAMPLE_RATE, x_axis='time', y_axis='mel', win_length=N_FFT, hop_length=HOP_LEN, fmax=FMAX, fmin=FMIN)\n",
    "    plt.show()\n",
    "\n",
    "def ablate_features(index, audio):\n",
    "\n",
    "    audio_stft = librosa.stft(audio, n_fft=N_FFT)\n",
    "    low_index = index*4\n",
    "    high_index = low_index+3\n",
    "    l0 = fft_freq>=mel_freq[low_index]\n",
    "    l1 = fft_freq<=mel_freq[high_index]\n",
    "\n",
    "    for i in range(len(l0)):\n",
    "        if l0[i] & l1[i]:\n",
    "            audio_stft[i,:] = np.complex64(0+0j)\n",
    "\n",
    "    y_new = librosa.istft(audio_stft, n_fft=N_FFT)\n",
    "    return y_new\n",
    "\n",
    "def run_loop(audio_fname, model):\n",
    "    preds_list = []\n",
    "    audio, sr = librosa.load(audio_fname, sr=SAMPLE_RATE)\n",
    "    \n",
    "    for i in range(16):\n",
    "        y_new = ablate_features(i, audio)\n",
    "        log_mel = torch.from_numpy(generate_log_mel(y_new, SAMPLE_RATE)).unsqueeze(0)\n",
    "\n",
    "        model.eval()\n",
    "        with torch.no_grad():\n",
    "            pred = model(log_mel.to(device))\n",
    "            pred = scapper_scenes[torch.argmax(torch.sigmoid(pred.cpu()))]\n",
    "        preds_list.append(pred)\n",
    "    return preds_list\n"
   ]
  },
  {
   "cell_type": "code",
   "execution_count": 51,
   "metadata": {},
   "outputs": [],
   "source": [
    "sample_file = '../audioData/sythenticSoundscenes/test/tube1_0.wav'\n",
    "#sample_file = '/work/dpandya/giggityGit/audioData/TUTUrban2018/developmentDataset/TUT-urban-acoustic-scenes-2018-development/audio/bus-paris-26-911-a.wav'\n",
    "#wav, sr = librosa.load(sample_file, sr=SAMPLE_RATE)\n",
    "#run_loop(sample_file, model)\n"
   ]
  },
  {
   "cell_type": "code",
   "execution_count": 52,
   "metadata": {},
   "outputs": [
    {
     "data": {
      "text/html": [
       "<div>\n",
       "<style scoped>\n",
       "    .dataframe tbody tr th:only-of-type {\n",
       "        vertical-align: middle;\n",
       "    }\n",
       "\n",
       "    .dataframe tbody tr th {\n",
       "        vertical-align: top;\n",
       "    }\n",
       "\n",
       "    .dataframe thead th {\n",
       "        text-align: right;\n",
       "    }\n",
       "</style>\n",
       "<table border=\"1\" class=\"dataframe\">\n",
       "  <thead>\n",
       "    <tr style=\"text-align: right;\">\n",
       "      <th></th>\n",
       "      <th>audio_fileNames</th>\n",
       "      <th>label_fileNames</th>\n",
       "      <th>acoustic_scene_label</th>\n",
       "      <th>events_label_list</th>\n",
       "      <th>preds</th>\n",
       "    </tr>\n",
       "  </thead>\n",
       "  <tbody>\n",
       "    <tr>\n",
       "      <th>0</th>\n",
       "      <td>bus10_0.wav</td>\n",
       "      <td>bus10_0.jams</td>\n",
       "      <td>bus</td>\n",
       "      <td>['cough', 'phone', 'keys', 'phone', 'cough', '...</td>\n",
       "      <td>bus</td>\n",
       "    </tr>\n",
       "    <tr>\n",
       "      <th>1</th>\n",
       "      <td>bus10_1.wav</td>\n",
       "      <td>bus10_1.jams</td>\n",
       "      <td>bus</td>\n",
       "      <td>['keys', 'clearthroat', 'laughter', 'keys', 'p...</td>\n",
       "      <td>bus</td>\n",
       "    </tr>\n",
       "    <tr>\n",
       "      <th>2</th>\n",
       "      <td>bus10_2.wav</td>\n",
       "      <td>bus10_2.jams</td>\n",
       "      <td>bus</td>\n",
       "      <td>['laughter', 'keys', 'phone', 'phone', 'cough'...</td>\n",
       "      <td>bus</td>\n",
       "    </tr>\n",
       "    <tr>\n",
       "      <th>3</th>\n",
       "      <td>bus10_3.wav</td>\n",
       "      <td>bus10_3.jams</td>\n",
       "      <td>bus</td>\n",
       "      <td>['phone', 'keys', 'phone', 'laughter', 'speech...</td>\n",
       "      <td>bus</td>\n",
       "    </tr>\n",
       "    <tr>\n",
       "      <th>4</th>\n",
       "      <td>bus10_4.wav</td>\n",
       "      <td>bus10_4.jams</td>\n",
       "      <td>bus</td>\n",
       "      <td>['laughter', 'keys', 'phone', 'cough', 'cleart...</td>\n",
       "      <td>bus</td>\n",
       "    </tr>\n",
       "  </tbody>\n",
       "</table>\n",
       "</div>"
      ],
      "text/plain": [
       "  audio_fileNames label_fileNames acoustic_scene_label  \\\n",
       "0     bus10_0.wav    bus10_0.jams                  bus   \n",
       "1     bus10_1.wav    bus10_1.jams                  bus   \n",
       "2     bus10_2.wav    bus10_2.jams                  bus   \n",
       "3     bus10_3.wav    bus10_3.jams                  bus   \n",
       "4     bus10_4.wav    bus10_4.jams                  bus   \n",
       "\n",
       "                                   events_label_list preds  \n",
       "0  ['cough', 'phone', 'keys', 'phone', 'cough', '...   bus  \n",
       "1  ['keys', 'clearthroat', 'laughter', 'keys', 'p...   bus  \n",
       "2  ['laughter', 'keys', 'phone', 'phone', 'cough'...   bus  \n",
       "3  ['phone', 'keys', 'phone', 'laughter', 'speech...   bus  \n",
       "4  ['laughter', 'keys', 'phone', 'cough', 'cleart...   bus  "
      ]
     },
     "execution_count": 52,
     "metadata": {},
     "output_type": "execute_result"
    }
   ],
   "source": [
    "true_preds = scapper_df[scapper_df['acoustic_scene_label'] == scapper_df['preds']]\n",
    "\n",
    "feat_ablation_preds = {i:[] for i in scapper_scenes}\n",
    "random_files = []\n",
    "\n"
   ]
  },
  {
   "cell_type": "code",
   "execution_count": 161,
   "metadata": {},
   "outputs": [],
   "source": [
    "\n",
    "l0 = lib_freq>=mel_F[4]\n",
    "l1 = lib_freq<=mel_F[7]\n",
    "\n",
    "for i in range(len(l0)):\n",
    "    if l0[i] & l1[i]:\n",
    "        wav_stft[i,:] = np.complex64(0+0j)\n",
    "\n",
    "y_new = librosa.istft(wav_stft, n_fft=N_FFT)"
   ]
  },
  {
   "cell_type": "code",
   "execution_count": null,
   "metadata": {},
   "outputs": [],
   "source": []
  }
 ],
 "metadata": {
  "kernelspec": {
   "display_name": "noiseremoval",
   "language": "python",
   "name": "python3"
  },
  "language_info": {
   "codemirror_mode": {
    "name": "ipython",
    "version": 3
   },
   "file_extension": ".py",
   "mimetype": "text/x-python",
   "name": "python",
   "nbconvert_exporter": "python",
   "pygments_lexer": "ipython3",
   "version": "3.11.5"
  }
 },
 "nbformat": 4,
 "nbformat_minor": 2
}
